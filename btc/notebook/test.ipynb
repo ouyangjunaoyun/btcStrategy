{
 "cells": [
  {
   "cell_type": "code",
   "execution_count": 1,
   "metadata": {},
   "outputs": [],
   "source": [
    "import numpy as np"
   ]
  },
  {
   "cell_type": "code",
   "execution_count": 2,
   "metadata": {},
   "outputs": [],
   "source": [
    "from itertools import permutations"
   ]
  },
  {
   "cell_type": "code",
   "execution_count": 50,
   "metadata": {},
   "outputs": [],
   "source": [
    "a = ['r','b','b','g','g','g']\n",
    "perms = np.array(list(permutations(a)))"
   ]
  },
  {
   "cell_type": "code",
   "execution_count": 5,
   "metadata": {},
   "outputs": [
    {
     "data": {
      "text/plain": [
       "60"
      ]
     },
     "execution_count": 5,
     "metadata": {},
     "output_type": "execute_result"
    }
   ],
   "source": [
    "len(perms)"
   ]
  },
  {
   "cell_type": "code",
   "execution_count": 15,
   "metadata": {},
   "outputs": [
    {
     "data": {
      "text/plain": [
       "5"
      ]
     },
     "execution_count": 15,
     "metadata": {},
     "output_type": "execute_result"
    }
   ],
   "source": [
    "np.max(np.argwhere(np.array(perms[0]) == 'g'))"
   ]
  },
  {
   "cell_type": "code",
   "execution_count": 20,
   "metadata": {},
   "outputs": [],
   "source": [
    "findLast = lambda x,y: np.max(np.argwhere(np.array(x) == y))\n"
   ]
  },
  {
   "cell_type": "code",
   "execution_count": 21,
   "metadata": {},
   "outputs": [
    {
     "data": {
      "text/plain": [
       "2"
      ]
     },
     "execution_count": 21,
     "metadata": {},
     "output_type": "execute_result"
    }
   ],
   "source": [
    "findLast(perms[0], 'b')"
   ]
  },
  {
   "cell_type": "code",
   "execution_count": 30,
   "metadata": {},
   "outputs": [],
   "source": [
    "permsResult = [findLast(x,'g')<findLast(x, 'b') for x in perms]"
   ]
  },
  {
   "cell_type": "code",
   "execution_count": 57,
   "metadata": {},
   "outputs": [
    {
     "name": "stdout",
     "output_type": "stream",
     "text": [
      "r <g\n",
      "540 / 720 0.75\n"
     ]
    }
   ],
   "source": [
    "print('r <g')\n",
    "permsResult = [findLast(x,'r')<findLast(x, 'g') for x in perms]\n",
    "print(sum(permsResult) ,'/',len(perms), sum(permsResult) /len(perms))"
   ]
  },
  {
   "cell_type": "code",
   "execution_count": 55,
   "metadata": {},
   "outputs": [],
   "source": [
    "p1 = perms[permsResult]"
   ]
  },
  {
   "cell_type": "code",
   "execution_count": 56,
   "metadata": {},
   "outputs": [
    {
     "name": "stdout",
     "output_type": "stream",
     "text": [
      "r <g | g < b\n",
      "180 / 288 0.625\n"
     ]
    }
   ],
   "source": [
    "print('r <g | g < b')\n",
    "permsResult = [findLast(x,'g')<findLast(x, 'b') for x in perms]\n",
    "p1 = perms[permsResult]\n",
    "permsResult = [findLast(x,'r')<findLast(x, 'g') for x in p1]\n",
    "print(sum(permsResult) ,'/',len(p1), sum(permsResult) /len(p1))"
   ]
  },
  {
   "cell_type": "code",
   "execution_count": 58,
   "metadata": {},
   "outputs": [],
   "source": [
    "b = ['r','g','g','g']\n",
    "perms1 = np.array(list(permutations(b)))"
   ]
  },
  {
   "cell_type": "code",
   "execution_count": 60,
   "metadata": {},
   "outputs": [
    {
     "data": {
      "text/plain": [
       "array([['r', 'g', 'g', 'g'],\n",
       "       ['r', 'g', 'g', 'g'],\n",
       "       ['r', 'g', 'g', 'g'],\n",
       "       ['r', 'g', 'g', 'g'],\n",
       "       ['r', 'g', 'g', 'g'],\n",
       "       ['r', 'g', 'g', 'g'],\n",
       "       ['g', 'r', 'g', 'g'],\n",
       "       ['g', 'r', 'g', 'g'],\n",
       "       ['g', 'g', 'r', 'g'],\n",
       "       ['g', 'g', 'g', 'r'],\n",
       "       ['g', 'g', 'r', 'g'],\n",
       "       ['g', 'g', 'g', 'r'],\n",
       "       ['g', 'r', 'g', 'g'],\n",
       "       ['g', 'r', 'g', 'g'],\n",
       "       ['g', 'g', 'r', 'g'],\n",
       "       ['g', 'g', 'g', 'r'],\n",
       "       ['g', 'g', 'r', 'g'],\n",
       "       ['g', 'g', 'g', 'r'],\n",
       "       ['g', 'r', 'g', 'g'],\n",
       "       ['g', 'r', 'g', 'g'],\n",
       "       ['g', 'g', 'r', 'g'],\n",
       "       ['g', 'g', 'g', 'r'],\n",
       "       ['g', 'g', 'r', 'g'],\n",
       "       ['g', 'g', 'g', 'r']], dtype='<U1')"
      ]
     },
     "execution_count": 60,
     "metadata": {},
     "output_type": "execute_result"
    }
   ],
   "source": [
    "perms1"
   ]
  },
  {
   "cell_type": "code",
   "execution_count": 106,
   "metadata": {},
   "outputs": [],
   "source": [
    "def find(perms, arg):\n",
    "    r = []\n",
    "    n = []\n",
    "    for i in perms:\n",
    "#         print (np.delete(np.array(i), np.where(np.array(i) == 'b')).tolist())\n",
    "        s = np.delete(np.array(i), np.where(np.array(i) == 'b')).tolist()\n",
    "        if s == arg:\n",
    "            r.append(i)\n",
    "        else:\n",
    "            n.append(i)\n",
    "    return r,n"
   ]
  },
  {
   "cell_type": "code",
   "execution_count": 104,
   "metadata": {},
   "outputs": [
    {
     "data": {
      "text/plain": [
       "array(['r', 'g', 'g', 'g'], dtype='<U1')"
      ]
     },
     "execution_count": 104,
     "metadata": {},
     "output_type": "execute_result"
    }
   ],
   "source": [
    "k"
   ]
  },
  {
   "cell_type": "code",
   "execution_count": 107,
   "metadata": {},
   "outputs": [
    {
     "name": "stdout",
     "output_type": "stream",
     "text": [
      "['r' 'g' 'g' 'g'] 180 540\n",
      "['r' 'g' 'g' 'g'] 180 540\n",
      "['r' 'g' 'g' 'g'] 180 540\n",
      "['r' 'g' 'g' 'g'] 180 540\n",
      "['r' 'g' 'g' 'g'] 180 540\n",
      "['r' 'g' 'g' 'g'] 180 540\n",
      "['g' 'r' 'g' 'g'] 180 540\n",
      "['g' 'r' 'g' 'g'] 180 540\n",
      "['g' 'g' 'r' 'g'] 180 540\n",
      "['g' 'g' 'g' 'r'] 180 540\n",
      "['g' 'g' 'r' 'g'] 180 540\n",
      "['g' 'g' 'g' 'r'] 180 540\n",
      "['g' 'r' 'g' 'g'] 180 540\n",
      "['g' 'r' 'g' 'g'] 180 540\n",
      "['g' 'g' 'r' 'g'] 180 540\n",
      "['g' 'g' 'g' 'r'] 180 540\n",
      "['g' 'g' 'r' 'g'] 180 540\n",
      "['g' 'g' 'g' 'r'] 180 540\n",
      "['g' 'r' 'g' 'g'] 180 540\n",
      "['g' 'r' 'g' 'g'] 180 540\n",
      "['g' 'g' 'r' 'g'] 180 540\n",
      "['g' 'g' 'g' 'r'] 180 540\n",
      "['g' 'g' 'r' 'g'] 180 540\n",
      "['g' 'g' 'g' 'r'] 180 540\n"
     ]
    }
   ],
   "source": [
    "for k in perms1:\n",
    "    r, n = find(perms, k.tolist())\n",
    "    print(k, len(r), len(n))"
   ]
  },
  {
   "cell_type": "code",
   "execution_count": 69,
   "metadata": {},
   "outputs": [
    {
     "data": {
      "text/plain": [
       "True"
      ]
     },
     "execution_count": 69,
     "metadata": {},
     "output_type": "execute_result"
    }
   ],
   "source": [
    "['r', 'g', 'g', 'g'] == ['r', 'g', 'g', 'g']"
   ]
  },
  {
   "cell_type": "code",
   "execution_count": 87,
   "metadata": {},
   "outputs": [],
   "source": [
    " s = np.delete(['r', 'b', 'b', 'g', 'g', 'g'], np.where(['r', 'b', 'b', 'g', 'g', 'g'] == 'b')).tolist()"
   ]
  },
  {
   "cell_type": "code",
   "execution_count": 96,
   "metadata": {},
   "outputs": [
    {
     "data": {
      "text/plain": [
       "(array([1, 2]),)"
      ]
     },
     "execution_count": 96,
     "metadata": {},
     "output_type": "execute_result"
    }
   ],
   "source": [
    "np.where(np.array(['r', 'b', 'b', 'g', 'g', 'g']) == 'b')"
   ]
  },
  {
   "cell_type": "code",
   "execution_count": 84,
   "metadata": {},
   "outputs": [
    {
     "data": {
      "text/plain": [
       "False"
      ]
     },
     "execution_count": 84,
     "metadata": {},
     "output_type": "execute_result"
    }
   ],
   "source": [
    "s == ['r', 'g', 'g', 'g']"
   ]
  }
 ],
 "metadata": {
  "kernelspec": {
   "display_name": "Python 3",
   "language": "python",
   "name": "python3"
  },
  "language_info": {
   "codemirror_mode": {
    "name": "ipython",
    "version": 3
   },
   "file_extension": ".py",
   "mimetype": "text/x-python",
   "name": "python",
   "nbconvert_exporter": "python",
   "pygments_lexer": "ipython3",
   "version": "3.8.5"
  }
 },
 "nbformat": 4,
 "nbformat_minor": 4
}
