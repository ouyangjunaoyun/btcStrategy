{
 "cells": [
  {
   "cell_type": "code",
   "execution_count": 33,
   "metadata": {},
   "outputs": [
    {
     "data": {
      "text/html": [
       "<style>.container {width:95% !important; } </style>\n",
       "<script>\n",
       "code_show=true; \n",
       "function code_toggle() {\n",
       " if (code_show){\n",
       " $('div.input').hide();\n",
       " } else {\n",
       " $('div.input').show();\n",
       " }\n",
       " code_show = !code_show\n",
       "} \n",
       "$( document ).ready(code_toggle);\n",
       "</script>\n",
       "<form action=\"javascript:code_toggle()\"><input type=\"submit\" value=\"Click here to toggle on/off the raw code.\"></form>"
      ],
      "text/plain": [
       "<IPython.core.display.HTML object>"
      ]
     },
     "execution_count": 33,
     "metadata": {},
     "output_type": "execute_result"
    }
   ],
   "source": [
    "from IPython.display import HTML\n",
    "\n",
    "HTML('''<style>.container {width:95% !important; } </style>\n",
    "<script>\n",
    "code_show=true; \n",
    "function code_toggle() {\n",
    " if (code_show){\n",
    " $('div.input').hide();\n",
    " } else {\n",
    " $('div.input').show();\n",
    " }\n",
    " code_show = !code_show\n",
    "} \n",
    "$( document ).ready(code_toggle);\n",
    "</script>\n",
    "<form action=\"javascript:code_toggle()\"><input type=\"submit\" value=\"Click here to toggle on/off the raw code.\"></form>''')"
   ]
  },
  {
   "cell_type": "code",
   "execution_count": 71,
   "metadata": {},
   "outputs": [],
   "source": [
    "import numpy as np\n",
    "import pandas as pd\n",
    "import datetime as dt\n",
    "from scipy.stats import norm\n",
    "from scipy import optimize"
   ]
  },
  {
   "cell_type": "markdown",
   "metadata": {},
   "source": [
    "## Preview data"
   ]
  },
  {
   "cell_type": "code",
   "execution_count": 22,
   "metadata": {},
   "outputs": [],
   "source": [
    "cash_df = pd.read_csv(\"../data/btc/cash/2021-01_btc_usd_index.csv\", names= ['datetime','value'])\n",
    "cash_df.loc[:,'datetime'] = pd.to_datetime(cash_df['datetime'])"
   ]
  },
  {
   "cell_type": "code",
   "execution_count": 23,
   "metadata": {},
   "outputs": [
    {
     "data": {
      "text/html": [
       "<div>\n",
       "<style scoped>\n",
       "    .dataframe tbody tr th:only-of-type {\n",
       "        vertical-align: middle;\n",
       "    }\n",
       "\n",
       "    .dataframe tbody tr th {\n",
       "        vertical-align: top;\n",
       "    }\n",
       "\n",
       "    .dataframe thead th {\n",
       "        text-align: right;\n",
       "    }\n",
       "</style>\n",
       "<table border=\"1\" class=\"dataframe\">\n",
       "  <thead>\n",
       "    <tr style=\"text-align: right;\">\n",
       "      <th></th>\n",
       "      <th>datetime</th>\n",
       "      <th>value</th>\n",
       "    </tr>\n",
       "  </thead>\n",
       "  <tbody>\n",
       "    <tr>\n",
       "      <th>0</th>\n",
       "      <td>2021-01-01 00:00:00</td>\n",
       "      <td>28978.21</td>\n",
       "    </tr>\n",
       "    <tr>\n",
       "      <th>1</th>\n",
       "      <td>2021-01-01 00:01:00</td>\n",
       "      <td>29019.65</td>\n",
       "    </tr>\n",
       "    <tr>\n",
       "      <th>2</th>\n",
       "      <td>2021-01-01 00:02:00</td>\n",
       "      <td>29069.89</td>\n",
       "    </tr>\n",
       "    <tr>\n",
       "      <th>3</th>\n",
       "      <td>2021-01-01 00:03:00</td>\n",
       "      <td>29043.90</td>\n",
       "    </tr>\n",
       "    <tr>\n",
       "      <th>4</th>\n",
       "      <td>2021-01-01 00:04:00</td>\n",
       "      <td>29037.08</td>\n",
       "    </tr>\n",
       "  </tbody>\n",
       "</table>\n",
       "</div>"
      ],
      "text/plain": [
       "             datetime     value\n",
       "0 2021-01-01 00:00:00  28978.21\n",
       "1 2021-01-01 00:01:00  29019.65\n",
       "2 2021-01-01 00:02:00  29069.89\n",
       "3 2021-01-01 00:03:00  29043.90\n",
       "4 2021-01-01 00:04:00  29037.08"
      ]
     },
     "execution_count": 23,
     "metadata": {},
     "output_type": "execute_result"
    }
   ],
   "source": [
    "cash_df.head()"
   ]
  },
  {
   "cell_type": "code",
   "execution_count": 50,
   "metadata": {},
   "outputs": [],
   "source": [
    "T1 = dt.datetime(2021,1,11,9,0,0)\n",
    "T2 = dt.datetime(2021,1,13,9,0,0)"
   ]
  },
  {
   "cell_type": "code",
   "execution_count": 51,
   "metadata": {},
   "outputs": [
    {
     "data": {
      "text/html": [
       "<div>\n",
       "<style scoped>\n",
       "    .dataframe tbody tr th:only-of-type {\n",
       "        vertical-align: middle;\n",
       "    }\n",
       "\n",
       "    .dataframe tbody tr th {\n",
       "        vertical-align: top;\n",
       "    }\n",
       "\n",
       "    .dataframe thead th {\n",
       "        text-align: right;\n",
       "    }\n",
       "</style>\n",
       "<table border=\"1\" class=\"dataframe\">\n",
       "  <thead>\n",
       "    <tr style=\"text-align: right;\">\n",
       "      <th></th>\n",
       "      <th>datetime</th>\n",
       "      <th>value</th>\n",
       "    </tr>\n",
       "  </thead>\n",
       "  <tbody>\n",
       "    <tr>\n",
       "      <th>14862</th>\n",
       "      <td>2021-01-11 09:00:00</td>\n",
       "      <td>35427.85</td>\n",
       "    </tr>\n",
       "  </tbody>\n",
       "</table>\n",
       "</div>"
      ],
      "text/plain": [
       "                 datetime     value\n",
       "14862 2021-01-11 09:00:00  35427.85"
      ]
     },
     "execution_count": 51,
     "metadata": {},
     "output_type": "execute_result"
    }
   ],
   "source": [
    "# cash_df[(cash_df['datetime']>= dt.datetime(2021,1,12)) & (cash_df['datetime']<= dt.datetime(2021,1,13))]\n",
    "cash_df[cash_df['datetime']== T1]"
   ]
  },
  {
   "cell_type": "code",
   "execution_count": 44,
   "metadata": {},
   "outputs": [
    {
     "name": "stdout",
     "output_type": "stream",
     "text": [
      "                 datetime     value\n",
      "15759 2021-01-12 00:00:00  35444.02\n",
      "15760 2021-01-12 00:01:00  35471.52\n",
      "15761 2021-01-12 00:02:00  35420.45\n",
      "15762 2021-01-12 00:03:00  35405.45\n",
      "15763 2021-01-12 00:04:00  35310.01\n",
      "...                   ...       ...\n",
      "15916 2021-01-12 02:37:00  34261.76\n",
      "15917 2021-01-12 02:38:00  34190.90\n",
      "15918 2021-01-12 02:39:00  34341.03\n",
      "15919 2021-01-12 02:40:00  34326.57\n",
      "15920 2021-01-12 02:41:00  34238.06\n",
      "\n",
      "[162 rows x 2 columns]\n"
     ]
    }
   ],
   "source": [
    "print (cash_df[(cash_df['datetime']>= dt.datetime(2021,1,12)) & (cash_df['datetime']<= dt.datetime(2021,1,13))])"
   ]
  },
  {
   "cell_type": "code",
   "execution_count": 54,
   "metadata": {},
   "outputs": [],
   "source": [
    "option_df = pd.read_csv(\"../data/btc/options/BTC-14JAN21-29000-C.csv\", names= ['datetime','low','high','open','close','volume','cost'])\n",
    "option_df.loc[:,'datetime'] = pd.to_datetime(option_df['datetime'])"
   ]
  },
  {
   "cell_type": "code",
   "execution_count": 55,
   "metadata": {},
   "outputs": [
    {
     "data": {
      "text/html": [
       "<div>\n",
       "<style scoped>\n",
       "    .dataframe tbody tr th:only-of-type {\n",
       "        vertical-align: middle;\n",
       "    }\n",
       "\n",
       "    .dataframe tbody tr th {\n",
       "        vertical-align: top;\n",
       "    }\n",
       "\n",
       "    .dataframe thead th {\n",
       "        text-align: right;\n",
       "    }\n",
       "</style>\n",
       "<table border=\"1\" class=\"dataframe\">\n",
       "  <thead>\n",
       "    <tr style=\"text-align: right;\">\n",
       "      <th></th>\n",
       "      <th>datetime</th>\n",
       "      <th>low</th>\n",
       "      <th>high</th>\n",
       "      <th>open</th>\n",
       "      <th>close</th>\n",
       "      <th>volume</th>\n",
       "      <th>cost</th>\n",
       "    </tr>\n",
       "  </thead>\n",
       "  <tbody>\n",
       "    <tr>\n",
       "      <th>0</th>\n",
       "      <td>2021-01-12 17:52:00</td>\n",
       "      <td>0.1775</td>\n",
       "      <td>0.1775</td>\n",
       "      <td>0.1775</td>\n",
       "      <td>0.1775</td>\n",
       "      <td>0.1</td>\n",
       "      <td>0.01775</td>\n",
       "    </tr>\n",
       "    <tr>\n",
       "      <th>1</th>\n",
       "      <td>2021-01-12 17:53:00</td>\n",
       "      <td>0.1775</td>\n",
       "      <td>0.1775</td>\n",
       "      <td>0.1775</td>\n",
       "      <td>0.1775</td>\n",
       "      <td>0.0</td>\n",
       "      <td>0.00000</td>\n",
       "    </tr>\n",
       "    <tr>\n",
       "      <th>2</th>\n",
       "      <td>2021-01-12 17:54:00</td>\n",
       "      <td>0.1775</td>\n",
       "      <td>0.1775</td>\n",
       "      <td>0.1775</td>\n",
       "      <td>0.1775</td>\n",
       "      <td>0.0</td>\n",
       "      <td>0.00000</td>\n",
       "    </tr>\n",
       "    <tr>\n",
       "      <th>3</th>\n",
       "      <td>2021-01-12 17:55:00</td>\n",
       "      <td>0.1775</td>\n",
       "      <td>0.1775</td>\n",
       "      <td>0.1775</td>\n",
       "      <td>0.1775</td>\n",
       "      <td>0.0</td>\n",
       "      <td>0.00000</td>\n",
       "    </tr>\n",
       "    <tr>\n",
       "      <th>4</th>\n",
       "      <td>2021-01-12 17:56:00</td>\n",
       "      <td>0.1775</td>\n",
       "      <td>0.1775</td>\n",
       "      <td>0.1775</td>\n",
       "      <td>0.1775</td>\n",
       "      <td>0.0</td>\n",
       "      <td>0.00000</td>\n",
       "    </tr>\n",
       "  </tbody>\n",
       "</table>\n",
       "</div>"
      ],
      "text/plain": [
       "             datetime     low    high    open   close  volume     cost\n",
       "0 2021-01-12 17:52:00  0.1775  0.1775  0.1775  0.1775     0.1  0.01775\n",
       "1 2021-01-12 17:53:00  0.1775  0.1775  0.1775  0.1775     0.0  0.00000\n",
       "2 2021-01-12 17:54:00  0.1775  0.1775  0.1775  0.1775     0.0  0.00000\n",
       "3 2021-01-12 17:55:00  0.1775  0.1775  0.1775  0.1775     0.0  0.00000\n",
       "4 2021-01-12 17:56:00  0.1775  0.1775  0.1775  0.1775     0.0  0.00000"
      ]
     },
     "execution_count": 55,
     "metadata": {},
     "output_type": "execute_result"
    }
   ],
   "source": [
    "option_df.head()"
   ]
  },
  {
   "cell_type": "code",
   "execution_count": 56,
   "metadata": {},
   "outputs": [
    {
     "data": {
      "text/html": [
       "<div>\n",
       "<style scoped>\n",
       "    .dataframe tbody tr th:only-of-type {\n",
       "        vertical-align: middle;\n",
       "    }\n",
       "\n",
       "    .dataframe tbody tr th {\n",
       "        vertical-align: top;\n",
       "    }\n",
       "\n",
       "    .dataframe thead th {\n",
       "        text-align: right;\n",
       "    }\n",
       "</style>\n",
       "<table border=\"1\" class=\"dataframe\">\n",
       "  <thead>\n",
       "    <tr style=\"text-align: right;\">\n",
       "      <th></th>\n",
       "      <th>datetime</th>\n",
       "      <th>low</th>\n",
       "      <th>high</th>\n",
       "      <th>open</th>\n",
       "      <th>close</th>\n",
       "      <th>volume</th>\n",
       "      <th>cost</th>\n",
       "    </tr>\n",
       "  </thead>\n",
       "  <tbody>\n",
       "    <tr>\n",
       "      <th>908</th>\n",
       "      <td>2021-01-13 09:00:00</td>\n",
       "      <td>0.168</td>\n",
       "      <td>0.168</td>\n",
       "      <td>0.168</td>\n",
       "      <td>0.168</td>\n",
       "      <td>0.0</td>\n",
       "      <td>0.0</td>\n",
       "    </tr>\n",
       "  </tbody>\n",
       "</table>\n",
       "</div>"
      ],
      "text/plain": [
       "               datetime    low   high   open  close  volume  cost\n",
       "908 2021-01-13 09:00:00  0.168  0.168  0.168  0.168     0.0   0.0"
      ]
     },
     "execution_count": 56,
     "metadata": {},
     "output_type": "execute_result"
    }
   ],
   "source": [
    "option_df[option_df['datetime'] == T2]"
   ]
  },
  {
   "cell_type": "code",
   "execution_count": 68,
   "metadata": {},
   "outputs": [],
   "source": [
    "def NCDF(d):\n",
    "    return norm.cdf(d)\n",
    "def NPDF(d):\n",
    "    return norm.pdf(d)"
   ]
  },
  {
   "cell_type": "code",
   "execution_count": 63,
   "metadata": {},
   "outputs": [
    {
     "data": {
      "text/plain": [
       "(0.9500150944608786, 0.10311081109198142)"
      ]
     },
     "execution_count": 63,
     "metadata": {},
     "output_type": "execute_result"
    }
   ],
   "source": [
    "N(1.645), n(1.645)"
   ]
  },
  {
   "cell_type": "code",
   "execution_count": 159,
   "metadata": {},
   "outputs": [],
   "source": [
    "def NCDF(d):\n",
    "    return norm.cdf(d)\n",
    "def NPDF(d):\n",
    "    return norm.pdf(d)\n",
    "\n",
    "class IVCalculator:\n",
    "    def __init__(self):\n",
    "        self.sigmas = []\n",
    "    def initSigma(self, S,K,tau,r,q, price):\n",
    "        return np.nan\n",
    "    def target(self,S,K,tau,r,q,sigma, price):\n",
    "        return np.nan\n",
    "    def veta(self,S,K,tau,r,q,sigma):\n",
    "        return np.nan\n",
    "    \n",
    "    def calc(self,S,K,tau,r,q, price):\n",
    "        sigma_0 = self.initSigma(S,K,tau,r,q, price)\n",
    "        f = lambda sigma : self.target(S,K,tau,r,q,sigma, price)\n",
    "        fp = lambda sigma : self.vega(S,K,tau,r,q,sigma)\n",
    "        sigma = optimize.newton(f, sigma_0, fprime=fp)\n",
    "        return sigma\n",
    "    \n",
    "\n",
    "class IVCalculatorBSCall(IVCalculator):\n",
    "    def __init__(self):\n",
    "        IVCalculator.__init__(self)\n",
    "\n",
    "    def initSigma(self, S,K,tau,r,q, price):\n",
    "        return price/S *np.sqrt(2*np.pi/tau)\n",
    "    def d1(self, S,K,tau,r,q,sigma):\n",
    "        return (np.log(S/K) + (r-q+np.power(sigma,2)/2)*tau)/(sigma*np.sqrt(tau))\n",
    "    def d2(self, S,K,tau,r,q,sigma):\n",
    "        return self.d1(S,K,tau,r,q,sigma) - sigma*np.sqrt(tau)\n",
    "    def vega(self,S,K,tau,r,q,sigma):\n",
    "        d1 = self.d1(S,K,tau,r,q,sigma)\n",
    "        v = S*np.exp(-q*tau)*np.sqrt(tau)*NPDF(d1)\n",
    "        return v\n",
    "    def bsPrice(self,S,K,tau,r,q,sigma):\n",
    "        d1 = self.d1(S,K,tau,r,q,sigma)\n",
    "        d2 = self.d2(S,K,tau,r,q,sigma)\n",
    "        price = S*np.exp(-q*tau)*NCDF(d1) - K*np.exp(-r*tau)*NCDF(d2)\n",
    "        return price\n",
    "    def target(self,S,K,tau,r,q,sigma, price):\n",
    "        self.sigmas.append(sigma)\n",
    "        bsPrice = self.bsPrice(S,K,tau,r,q,sigma)\n",
    "        return bsPrice - price\n",
    "    "
   ]
  },
  {
   "cell_type": "code",
   "execution_count": 151,
   "metadata": {},
   "outputs": [
    {
     "data": {
      "text/plain": [
       "1.4892196149057384"
      ]
     },
     "execution_count": 151,
     "metadata": {},
     "output_type": "execute_result"
    }
   ],
   "source": [
    "# c = IVCalculatorBSCall()\n",
    "# c.calc(S = 36233.09,K=35000,tau= ((dt.datetime(2021,1,18, 8, 0, 0) - dt.datetime(2021,1,17,22,56,0)).seconds / (24*3600) / 365.25), r = 0.001, q = 0.001, price = (.0405)*36233.09)"
   ]
  },
  {
   "cell_type": "code",
   "execution_count": 165,
   "metadata": {},
   "outputs": [
    {
     "data": {
      "text/plain": [
       "1.4893019160011989"
      ]
     },
     "execution_count": 165,
     "metadata": {},
     "output_type": "execute_result"
    }
   ],
   "source": [
    "c = IVCalculatorBSCall()\n",
    "c.calc(S = 36233.09,K=35000,tau= ((dt.datetime(2021,1,18, 8, 0, 0) - dt.datetime(2021,1,17,22,56,0)).seconds / (24*3600) / 365.25), r = 0.001,q = 0.001, price = (.0405)*36233.09)"
   ]
  },
  {
   "cell_type": "code",
   "execution_count": 166,
   "metadata": {},
   "outputs": [
    {
     "data": {
      "text/plain": [
       "0.7848886352714443"
      ]
     },
     "execution_count": 166,
     "metadata": {},
     "output_type": "execute_result"
    }
   ],
   "source": [
    "c = IVCalculatorBSCall()\n",
    "c.calc(S = 36233.09,K=35000,tau= ((dt.datetime(2021,1,18, 8, 0, 0) - dt.datetime(2021,1,17,22,56,0)).seconds / (24*3600) / 365.25), r = 0.001,q = 0.001, price = (.035)*36233.09)"
   ]
  }
 ],
 "metadata": {
  "kernelspec": {
   "display_name": "Python 3",
   "language": "python",
   "name": "python3"
  },
  "language_info": {
   "codemirror_mode": {
    "name": "ipython",
    "version": 3
   },
   "file_extension": ".py",
   "mimetype": "text/x-python",
   "name": "python",
   "nbconvert_exporter": "python",
   "pygments_lexer": "ipython3",
   "version": "3.8.5"
  }
 },
 "nbformat": 4,
 "nbformat_minor": 4
}
